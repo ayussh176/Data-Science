{
 "cells": [
  {
   "cell_type": "code",
   "execution_count": null,
   "id": "5798e47e",
   "metadata": {},
   "outputs": [],
   "source": [
    "#After flipping a coin 10 times you got this result,\n",
    "#Using for loop figure out how many times you got heads\n",
    "result = [\"heads\",\"tails\",\"tails\",\"heads\",\"tails\",\"heads\",\"heads\",\"tails\",\"tails\",\"tails\"]"
   ]
  },
  {
   "cell_type": "code",
   "execution_count": 4,
   "id": "c4fe5ed9",
   "metadata": {},
   "outputs": [
    {
     "name": "stdout",
     "output_type": "stream",
     "text": [
      "we got 4 heads\n"
     ]
    }
   ],
   "source": [
    "count = 0\n",
    "count = int(count)\n",
    "for item in result:\n",
    "    if item == \"tails\":\n",
    "        continue\n",
    "    else:\n",
    "        count = count + 1\n",
    "count = str(count)\n",
    "print(\"we got \"+count+\" heads\")"
   ]
  },
  {
   "cell_type": "code",
   "execution_count": 5,
   "id": "1aabe899",
   "metadata": {},
   "outputs": [
    {
     "name": "stdout",
     "output_type": "stream",
     "text": [
      "1\n",
      "9\n",
      "25\n",
      "49\n",
      "81\n"
     ]
    }
   ],
   "source": [
    "#Print square of all numbers between 1 to 10 except even numbers\n",
    "for i in range(1,11):\n",
    "    if i%2==0 :\n",
    "        continue\n",
    "    else:\n",
    "        print(i*i)"
   ]
  },
  {
   "cell_type": "code",
   "execution_count": 12,
   "id": "f294655c",
   "metadata": {},
   "outputs": [],
   "source": [
    "#Your monthly expense list (from Jan to May) looks like this,\n",
    "expense_list = [2340, 2500, 2100, 3100, 2980]\n",
    "month = [\"January\", \"February\", \"March\", \"April\", \"May\"]\n",
    "#Write a program that asks you to enter an expense amount and program should tell you in which month that expense occurred. If expense is not found then it should print that as well."
   ]
  },
  {
   "cell_type": "code",
   "execution_count": 14,
   "id": "e538bda2",
   "metadata": {},
   "outputs": [
    {
     "name": "stdout",
     "output_type": "stream",
     "text": [
      "expense is not done in any of the above month\n"
     ]
    }
   ],
   "source": [
    "exp = input(\"enter the amount \")\n",
    "exp = int(exp)\n",
    "e = -1\n",
    "e = int(e)\n",
    "for i in range(len(expense_list)):\n",
    "    if exp==expense_list[i]:\n",
    "        print(\"expense is of month \",month[i])\n",
    "        e = i\n",
    "        break\n",
    "if e == -1:\n",
    "    print(\"expense is not done in any of the above month\")\n",
    "    "
   ]
  },
  {
   "cell_type": "code",
   "execution_count": 15,
   "id": "6eeba5ea",
   "metadata": {},
   "outputs": [
    {
     "data": {
      "text/plain": [
       "'Lets say you are running a 5 km race. Write a program that,\\n\\nUpon completing each 1 km asks you \"are you tired?\"\\nIf you reply \"yes\" then it should break and print \"you didn\\'t finish the race\"\\nIf you reply \"no\" then it should continue and ask \"are you tired\" on every km\\nIf you finish all 5 km then it should print congratulations message'"
      ]
     },
     "execution_count": 15,
     "metadata": {},
     "output_type": "execute_result"
    }
   ],
   "source": [
    "\"\"\"Lets say you are running a 5 km race. Write a program that,\n",
    "\n",
    "Upon completing each 1 km asks you \"are you tired?\"\n",
    "If you reply \"yes\" then it should break and print \"you didn't finish the race\"\n",
    "If you reply \"no\" then it should continue and ask \"are you tired\" on every km\n",
    "If you finish all 5 km then it should print congratulations message\"\"\""
   ]
  },
  {
   "cell_type": "code",
   "execution_count": 18,
   "id": "39a67c6a",
   "metadata": {},
   "outputs": [
    {
     "name": "stdout",
     "output_type": "stream",
     "text": [
      "You ran 1 miles\n",
      "You ran 2 miles\n",
      "You ran 3 miles\n",
      "You didn't finish 5 km race but hey congrats anyways! You still ran 3 miles\n"
     ]
    }
   ],
   "source": [
    "for i in range(5):\n",
    "    print(f\"You ran {i+1} miles\") # i starts with zero hence adding 1\n",
    "    tired = input(\"Are you tired? \")\n",
    "    if tired == 'yes':\n",
    "        break\n",
    "\n",
    "if i == 4: # 4 because the index starts from 0\n",
    "    print(\"Hurray! You are a rock star! You just finished 5 km race!\")\n",
    "else:\n",
    "    print(\"You didn't finish 5 km race but hey congrats anyways! You still ran\", i+1, \"miles\")"
   ]
  },
  {
   "cell_type": "code",
   "execution_count": 20,
   "id": "5f436212",
   "metadata": {},
   "outputs": [
    {
     "data": {
      "text/plain": [
       "'\"\\n*\\n**\\n***\\n****\\n*****\\n'"
      ]
     },
     "execution_count": 20,
     "metadata": {},
     "output_type": "execute_result"
    }
   ],
   "source": [
    "#Write a program that prints following shape\n",
    "\"\"\"\"\n",
    "*\n",
    "**\n",
    "***\n",
    "****\n",
    "*****\n",
    "\"\"\""
   ]
  },
  {
   "cell_type": "code",
   "execution_count": 1,
   "id": "0d171aa9",
   "metadata": {},
   "outputs": [
    {
     "name": "stdout",
     "output_type": "stream",
     "text": [
      "*\n",
      "**\n",
      "***\n",
      "****\n",
      "*****\n"
     ]
    }
   ],
   "source": [
    "for i in range(1,6):\n",
    "    s=''\n",
    "    for j in range(i):\n",
    "        s = s+'*'\n",
    "    print(s)"
   ]
  }
 ],
 "metadata": {
  "kernelspec": {
   "display_name": ".venv",
   "language": "python",
   "name": "python3"
  },
  "language_info": {
   "codemirror_mode": {
    "name": "ipython",
    "version": 3
   },
   "file_extension": ".py",
   "mimetype": "text/x-python",
   "name": "python",
   "nbconvert_exporter": "python",
   "pygments_lexer": "ipython3",
   "version": "3.12.10"
  }
 },
 "nbformat": 4,
 "nbformat_minor": 5
}
