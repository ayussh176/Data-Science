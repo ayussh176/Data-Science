{
 "cells": [
  {
   "cell_type": "markdown",
   "id": "fb5dc541",
   "metadata": {},
   "source": [
    "activation function"
   ]
  },
  {
   "cell_type": "code",
   "execution_count": 1,
   "id": "6d4b7882",
   "metadata": {},
   "outputs": [],
   "source": [
    "import tensorflow as tf"
   ]
  },
  {
   "cell_type": "code",
   "execution_count": 2,
   "id": "5bbf953c",
   "metadata": {},
   "outputs": [],
   "source": [
    "#there are several activation functions in tensorflow\n",
    "#we will use the relu activation function"
   ]
  },
  {
   "cell_type": "code",
   "execution_count": 3,
   "id": "4d897dfa",
   "metadata": {},
   "outputs": [
    {
     "name": "stderr",
     "output_type": "stream",
     "text": [
      "c:\\Users\\Ayush Malik\\anaconda3\\envs\\tfenv\\lib\\site-packages\\keras\\src\\layers\\core\\dense.py:93: UserWarning: Do not pass an `input_shape`/`input_dim` argument to a layer. When using Sequential models, prefer using an `Input(shape)` object as the first layer in the model instead.\n",
      "  super().__init__(activity_regularizer=activity_regularizer, **kwargs)\n"
     ]
    }
   ],
   "source": [
    "relu = tf.keras.layers.ReLU()\n",
    "#we can use the relu activation function in a model\n",
    "model = tf.keras.Sequential([\n",
    "    tf.keras.layers.Dense(64, activation='relu', input_shape=(32,)),\n",
    "    tf.keras.layers.Dense(64, activation='relu'),\n",
    "    tf.keras.layers.Dense(10, activation='softmax')\n",
    "])\n",
    "#we can also use the relu activation function in a layer\n",
    "layer = tf.keras.layers.Dense(64, activation='relu', input_shape=(32,))\n",
    "#relu is a simple activation function that converts all negative values to zero\n",
    "#and keeps all positive values as they are"
   ]
  },
  {
   "cell_type": "code",
   "execution_count": 4,
   "id": "534036ed",
   "metadata": {},
   "outputs": [],
   "source": [
    "#we also have sigmoid activation function\n",
    "sigmoid = tf.keras.layers.Activation('sigmoid')\n",
    "#sigmoid is a simple activation function that converts all values to a value between 0 and 1\n",
    "#it is used in the output layer of a binary classification model"
   ]
  },
  {
   "cell_type": "code",
   "execution_count": 5,
   "id": "4799dbb9",
   "metadata": {},
   "outputs": [],
   "source": [
    "#we also have tanh activation function\n",
    "tanh = tf.keras.layers.Activation('tanh')\n",
    "#tanh is a simple activation function that converts all values to a value between -1 and 1\n",
    "#it is used in the output layer of a regression model"
   ]
  },
  {
   "cell_type": "code",
   "execution_count": 6,
   "id": "0d9d3ce9",
   "metadata": {},
   "outputs": [
    {
     "name": "stderr",
     "output_type": "stream",
     "text": [
      "c:\\Users\\Ayush Malik\\anaconda3\\envs\\tfenv\\lib\\site-packages\\keras\\src\\layers\\activations\\leaky_relu.py:41: UserWarning: Argument `alpha` is deprecated. Use `negative_slope` instead.\n",
      "  warnings.warn(\n"
     ]
    }
   ],
   "source": [
    "#we also have leaky relu activation function\n",
    "leaky_relu = tf.keras.layers.LeakyReLU(alpha=0.1)\n",
    "#leaky relu is a simple activation function that converts all negative values to a small value\n",
    "#and keeps all positive values as they are"
   ]
  }
 ],
 "metadata": {
  "kernelspec": {
   "display_name": "tfenv",
   "language": "python",
   "name": "python3"
  },
  "language_info": {
   "codemirror_mode": {
    "name": "ipython",
    "version": 3
   },
   "file_extension": ".py",
   "mimetype": "text/x-python",
   "name": "python",
   "nbconvert_exporter": "python",
   "pygments_lexer": "ipython3",
   "version": "3.10.18"
  }
 },
 "nbformat": 4,
 "nbformat_minor": 5
}
