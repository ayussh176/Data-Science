{
 "cells": [
  {
   "cell_type": "code",
   "execution_count": 2,
   "id": "5afc9b3a",
   "metadata": {},
   "outputs": [
    {
     "name": "stdout",
     "output_type": "stream",
     "text": [
      "{'sam': 3, 'ayush': 2, 'ram': 5}\n",
      "{'sam': 3, 'ram': 5}\n"
     ]
    }
   ],
   "source": [
    "d = {\"sam\":3,\"ayush\":2,\"ram\":5}\n",
    "print(d)\n",
    "\n",
    "del d[\"ayush\"]\n",
    "print(d)"
   ]
  },
  {
   "cell_type": "code",
   "execution_count": 4,
   "id": "840019bf",
   "metadata": {},
   "outputs": [
    {
     "name": "stdout",
     "output_type": "stream",
     "text": [
      "key: sam value: 3\n",
      "key: ram value: 5\n"
     ]
    }
   ],
   "source": [
    "#to traverse a dictionary in a for loop we use the following way\n",
    "for key in d:\n",
    "    print(\"key:\",key,\"value:\",d[key])\n"
   ]
  },
  {
   "cell_type": "code",
   "execution_count": 7,
   "id": "2e965872",
   "metadata": {},
   "outputs": [
    {
     "name": "stdout",
     "output_type": "stream",
     "text": [
      "key: sam value: 3\n",
      "key: ram value: 5\n"
     ]
    }
   ],
   "source": [
    "for k,v in d.items():\n",
    "    print(\"key:\",k,\"value:\",v)"
   ]
  },
  {
   "cell_type": "code",
   "execution_count": 1,
   "id": "e63c1c67",
   "metadata": {},
   "outputs": [],
   "source": [
    "#exercise"
   ]
  },
  {
   "cell_type": "code",
   "execution_count": 2,
   "id": "2d862968",
   "metadata": {},
   "outputs": [
    {
     "name": "stdout",
     "output_type": "stream",
     "text": [
      "{'china': 143, 'india': 136, 'usa': 32, 'pakistan': 21}\n"
     ]
    }
   ],
   "source": [
    "population_set = {\"china\":143,\"india\":136,\"usa\":32,\"pakistan\":21}\n",
    "print(population_set)"
   ]
  },
  {
   "cell_type": "code",
   "execution_count": 9,
   "id": "7d82a589",
   "metadata": {},
   "outputs": [
    {
     "name": "stdout",
     "output_type": "stream",
     "text": [
      "enter the country you want to query\n",
      "india has 136 population\n"
     ]
    }
   ],
   "source": [
    "work = input(\"enter the work:\")\n",
    "if work == \"print\":\n",
    "    for key in population_set:\n",
    "        print(\"country\",key, \"==> \",population_set[key])\n",
    "elif work == \"add\":\n",
    "    new = input(\"enter the new country\")\n",
    "    if new in population_set:\n",
    "        print(\"country is already exist\")\n",
    "    else:\n",
    "        value = input(\"enter the population\")\n",
    "        population_set[new] = value\n",
    "        print(population_set)\n",
    "elif work ==  \"remove\":\n",
    "    print(\"enter the country to remove\")\n",
    "    rem = input(\"enter the country\")\n",
    "    if rem in population_set:\n",
    "        del population_set[rem]\n",
    "        for key in population_set:\n",
    "            print(\"country\",key, \"==> \",population_set[key])\n",
    "    else:\n",
    "        print(\"country doesn't exist\")\n",
    "elif work == \"query\":\n",
    "    print(\"enter the country you want to query\")\n",
    "    country = input(\"enter the country\")\n",
    "    if country in population_set:\n",
    "        print(country,\"has\",population_set[country],\"crore population\")\n",
    "    else:\n",
    "        print(\"country doesn't exist in the set\")"
   ]
  },
  {
   "cell_type": "code",
   "execution_count": 11,
   "id": "fc4462b5",
   "metadata": {},
   "outputs": [
    {
     "name": "stdout",
     "output_type": "stream",
     "text": [
      "Diameter of circle is 8\n",
      "circumference of the circle is 25.12\n",
      "area of the circle is 50.24\n"
     ]
    }
   ],
   "source": [
    "#Write circle_calc() function that takes radius of a circle as an input from user and then it calculates and returns area, circumference and diameter. You should get these values in your main program by calling circle_calc function and then print them\n",
    "def circle_calculator(radius):\n",
    "    print(\"Diameter of circle is\",2*radius)\n",
    "    print(\"circumference of the circle is\",2*3.14*radius)\n",
    "    print(\"area of the circle is\",3.14*radius*radius)\n",
    "rad = input(\"enter the radius\")\n",
    "rad = int(rad)\n",
    "circle_calculator(rad)"
   ]
  },
  {
   "cell_type": "code",
   "execution_count": 13,
   "id": "e64e8a2d",
   "metadata": {},
   "outputs": [
    {
     "name": "stdout",
     "output_type": "stream",
     "text": [
      "info ==> [600, 630, 620] ==> avg:  616.67\n",
      "ril ==> [1430, 1490, 1567] ==> avg:  1495.67\n",
      "mtl ==> [234, 180, 160] ==> avg:  191.33\n"
     ]
    }
   ],
   "source": [
    "import statistics\n",
    "\n",
    "stocks = {\n",
    "    'info': [600,630,620],\n",
    "    'ril': [1430,1490,1567],\n",
    "    'mtl': [234,180,160]\n",
    "}\n",
    "\n",
    "def print_all():\n",
    "    for stock,price_list in stocks.items():\n",
    "        avg = statistics.mean(price_list)\n",
    "        print(f\"{stock} ==> {price_list} ==> avg: \",round(avg,2))\n",
    "\n",
    "\n",
    "def add():\n",
    "    s = input(\"Enter a stock ticker to add:\")\n",
    "    p = input(\"Enter price of this stock:\")\n",
    "    p=float(p)\n",
    "    if s in stocks:\n",
    "        stocks[s].append(p)\n",
    "    else:\n",
    "        stocks[s] = [p]\n",
    "    print_all()\n",
    "\n",
    "\n",
    "def main():\n",
    "    op=input(\"Enter operation (print, add or amend):\")\n",
    "    if op.lower() == 'print':\n",
    "        print_all()\n",
    "    elif op.lower() == 'add':\n",
    "        add()\n",
    "    else:\n",
    "        print(\"Unsupported operation:\",op)\n",
    "\n",
    "if __name__ == '__main__':\n",
    "    main()"
   ]
  },
  {
   "cell_type": "code",
   "execution_count": 19,
   "id": "aa4dba79",
   "metadata": {},
   "outputs": [
    {
     "name": "stdout",
     "output_type": "stream",
     "text": [
      "   September 2005\n",
      "Mo Tu We Th Fr Sa Su\n",
      "          1  2  3  4\n",
      " 5  6  7  8  9 10 11\n",
      "12 13 14 15 16 17 18\n",
      "19 20 21 22 23 24 25\n",
      "26 27 28 29 30\n",
      "\n"
     ]
    }
   ],
   "source": [
    "import calendar\n",
    "cal = calendar.month(2005,9)\n",
    "print(cal)"
   ]
  }
 ],
 "metadata": {
  "kernelspec": {
   "display_name": ".venv",
   "language": "python",
   "name": "python3"
  },
  "language_info": {
   "codemirror_mode": {
    "name": "ipython",
    "version": 3
   },
   "file_extension": ".py",
   "mimetype": "text/x-python",
   "name": "python",
   "nbconvert_exporter": "python",
   "pygments_lexer": "ipython3",
   "version": "3.12.10"
  }
 },
 "nbformat": 4,
 "nbformat_minor": 5
}
