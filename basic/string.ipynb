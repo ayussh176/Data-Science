{
 "cells": [
  {
   "cell_type": "code",
   "execution_count": 4,
   "id": "7285c44a",
   "metadata": {},
   "outputs": [
    {
     "name": "stdout",
     "output_type": "stream",
     "text": [
      "flat no B-303 Chatrapati Sambhaji nagar Maharashtra\n",
      " flat no a - 303\n",
      "Chatrapati sambhaji nagar\n",
      "maharashtra\n"
     ]
    }
   ],
   "source": [
    "#Create 3 variables to store street, city and country, now create address variable to store entire address. Use two ways of creating this variable, one using + operator and the other using f-string. Now Print the address in such a way that the street, city and country prints in a separate line\n",
    "block = \"flat no B-303\"\n",
    "district = \"Chatrapati Sambhaji nagar\"\n",
    "state = \"Maharashtra\"\n",
    "myaddress = block + \" \"+district+\" \"+state\n",
    "print(myaddress)\n",
    "\n",
    "adress = ''' flat no a - 303\n",
    "Chatrapati sambhaji nagar\n",
    "maharashtra'''\n",
    "print(adress)"
   ]
  },
  {
   "cell_type": "code",
   "execution_count": 8,
   "id": "cd6fcc25",
   "metadata": {},
   "outputs": [
    {
     "name": "stdout",
     "output_type": "stream",
     "text": [
      "revolve\n",
      "sun\n"
     ]
    }
   ],
   "source": [
    "#Create a variable to store the string \"Earth revolves around the sun\"\n",
    "#Print \"revolves\" using slice operator\n",
    "#Print \"sun\" using negative index\n",
    "\n",
    "string = \"Earth revolves around the sun\"\n",
    "print(string[6:13])\n",
    "print(string[-3:])"
   ]
  },
  {
   "cell_type": "code",
   "execution_count": 11,
   "id": "38cfd799",
   "metadata": {},
   "outputs": [
    {
     "name": "stdout",
     "output_type": "stream",
     "text": [
      "I can eat 4 fruits and 5 in one day\n"
     ]
    }
   ],
   "source": [
    "#Create two variables to store how many fruits and vegetables you eat in a day. Now Print \"I eat x veggies and y fruits daily\" where x and y presents vegetables and fruits that you eat everyday. Use python f string for this.\n",
    "fruit = 4\n",
    "vegetable = 5\n",
    "print(\"I can eat \"+str(fruit)+\" fruits and \"+str(vegetable)+\" in one day\")"
   ]
  },
  {
   "cell_type": "code",
   "execution_count": 14,
   "id": "efad1f5b",
   "metadata": {},
   "outputs": [
    {
     "name": "stdout",
     "output_type": "stream",
     "text": [
      "maine 10 samosa khaye\n"
     ]
    }
   ],
   "source": [
    "#I have a string variable called s='maine 200 banana khaye'. This of course is a wrong statement, the correct statement is 'maine 10 samosa khaye'. Replace incorrect words in original strong with new ones and print the new string. Also try to do this in one line.\n",
    "s='maine 200 banana khaye'\n",
    "s=s.replace(\"banana\",\"samosa\")\n",
    "s= s.replace('200','10')\n",
    "print(s)\n"
   ]
  },
  {
   "cell_type": "code",
   "execution_count": null,
   "id": "f85737a1",
   "metadata": {},
   "outputs": [],
   "source": []
  }
 ],
 "metadata": {
  "kernelspec": {
   "display_name": ".venv",
   "language": "python",
   "name": "python3"
  },
  "language_info": {
   "codemirror_mode": {
    "name": "ipython",
    "version": 3
   },
   "file_extension": ".py",
   "mimetype": "text/x-python",
   "name": "python",
   "nbconvert_exporter": "python",
   "pygments_lexer": "ipython3",
   "version": "3.12.10"
  }
 },
 "nbformat": 4,
 "nbformat_minor": 5
}
