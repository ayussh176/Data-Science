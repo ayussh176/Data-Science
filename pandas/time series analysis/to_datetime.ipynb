{
 "cells": [
  {
   "cell_type": "code",
   "execution_count": 2,
   "id": "f81fb54f",
   "metadata": {},
   "outputs": [],
   "source": [
    "import pandas as pd"
   ]
  },
  {
   "cell_type": "code",
   "execution_count": 4,
   "id": "0c00e18f",
   "metadata": {},
   "outputs": [
    {
     "data": {
      "text/plain": [
       "Timestamp('2017-01-05 00:00:00')"
      ]
     },
     "execution_count": 4,
     "metadata": {},
     "output_type": "execute_result"
    }
   ],
   "source": [
    "#to_datetime is use to conver all different format of dateed to a datetime format\n",
    "dates = ['2017-01-05', 'Jan 5, 2017', '01/05/2017', '2017.01.05', '2017/01/05','20170105']\n",
    "pd.to_datetime('2017#01#05', format='%Y#%m#%d')"
   ]
  },
  {
   "cell_type": "code",
   "execution_count": 5,
   "id": "b11718be",
   "metadata": {},
   "outputs": [],
   "source": [
    "#period method\n",
    "#it is use to create the period with different frequency"
   ]
  },
  {
   "cell_type": "code",
   "execution_count": 6,
   "id": "7e3d7f10",
   "metadata": {},
   "outputs": [
    {
     "data": {
      "text/plain": [
       "Period('2016', 'Y-DEC')"
      ]
     },
     "execution_count": 6,
     "metadata": {},
     "output_type": "execute_result"
    }
   ],
   "source": [
    "y = pd.Period('2016')\n",
    "y"
   ]
  },
  {
   "cell_type": "code",
   "execution_count": 7,
   "id": "19655c01",
   "metadata": {},
   "outputs": [
    {
     "data": {
      "text/plain": [
       "Timestamp('2016-01-01 00:00:00')"
      ]
     },
     "execution_count": 7,
     "metadata": {},
     "output_type": "execute_result"
    }
   ],
   "source": [
    "y.start_time"
   ]
  },
  {
   "cell_type": "code",
   "execution_count": 8,
   "id": "dad9ced5",
   "metadata": {},
   "outputs": [
    {
     "data": {
      "text/plain": [
       "Period('2016-01', 'M')"
      ]
     },
     "execution_count": 8,
     "metadata": {},
     "output_type": "execute_result"
    }
   ],
   "source": [
    "m= pd.Period('2016-01')\n",
    "m"
   ]
  },
  {
   "cell_type": "code",
   "execution_count": 9,
   "id": "a412e0be",
   "metadata": {},
   "outputs": [
    {
     "data": {
      "text/plain": [
       "Period('2016-02', 'M')"
      ]
     },
     "execution_count": 9,
     "metadata": {},
     "output_type": "execute_result"
    }
   ],
   "source": [
    "m+1"
   ]
  },
  {
   "cell_type": "code",
   "execution_count": 11,
   "id": "51a9c77c",
   "metadata": {},
   "outputs": [
    {
     "data": {
      "text/plain": [
       "Period('2016-02-28', 'D')"
      ]
     },
     "execution_count": 11,
     "metadata": {},
     "output_type": "execute_result"
    }
   ],
   "source": [
    "d = pd.Period('2016-02-28')\n",
    "d"
   ]
  },
  {
   "cell_type": "code",
   "execution_count": 12,
   "id": "63f0bbec",
   "metadata": {},
   "outputs": [
    {
     "data": {
      "text/plain": [
       "Period('2016-02-29', 'D')"
      ]
     },
     "execution_count": 12,
     "metadata": {},
     "output_type": "execute_result"
    }
   ],
   "source": [
    "d+1"
   ]
  },
  {
   "cell_type": "code",
   "execution_count": 15,
   "id": "2ce4fd6c",
   "metadata": {},
   "outputs": [
    {
     "data": {
      "text/plain": [
       "Period('2016-03-01', 'D')"
      ]
     },
     "execution_count": 15,
     "metadata": {},
     "output_type": "execute_result"
    }
   ],
   "source": [
    "d+2"
   ]
  },
  {
   "cell_type": "code",
   "execution_count": null,
   "id": "f92dc27c",
   "metadata": {},
   "outputs": [],
   "source": [
    "#periodindex and period_range\n",
    "#this is use to create the the index with given time and frequency"
   ]
  },
  {
   "cell_type": "code",
   "execution_count": 18,
   "id": "7225cd70",
   "metadata": {},
   "outputs": [
    {
     "data": {
      "text/plain": [
       "PeriodIndex(['2011Q1', '2011Q2', '2011Q3', '2011Q4', '2012Q1', '2012Q2',\n",
       "             '2012Q3', '2012Q4', '2013Q1', '2013Q2', '2013Q3', '2013Q4',\n",
       "             '2014Q1', '2014Q2', '2014Q3', '2014Q4', '2015Q1', '2015Q2',\n",
       "             '2015Q3', '2015Q4', '2016Q1', '2016Q2', '2016Q3', '2016Q4',\n",
       "             '2017Q1'],\n",
       "            dtype='period[Q-DEC]')"
      ]
     },
     "execution_count": 18,
     "metadata": {},
     "output_type": "execute_result"
    }
   ],
   "source": [
    "r = pd.period_range('2011', '2017', freq='Q')\n",
    "r"
   ]
  },
  {
   "cell_type": "code",
   "execution_count": 19,
   "id": "2c053db5",
   "metadata": {},
   "outputs": [
    {
     "name": "stderr",
     "output_type": "stream",
     "text": [
      "C:\\Users\\Ayush Malik\\AppData\\Local\\Temp\\ipykernel_7724\\1365906679.py:2: FutureWarning: 'q-jan' is deprecated and will be removed in a future version, please use 'Q-JAN' instead.\n",
      "  r = pd.period_range('2011', '2017', freq='q-jan')\n"
     ]
    },
    {
     "data": {
      "text/plain": [
       "PeriodIndex(['2011Q4', '2012Q1', '2012Q2', '2012Q3', '2012Q4', '2013Q1',\n",
       "             '2013Q2', '2013Q3', '2013Q4', '2014Q1', '2014Q2', '2014Q3',\n",
       "             '2014Q4', '2015Q1', '2015Q2', '2015Q3', '2015Q4', '2016Q1',\n",
       "             '2016Q2', '2016Q3', '2016Q4', '2017Q1', '2017Q2', '2017Q3',\n",
       "             '2017Q4'],\n",
       "            dtype='period[Q-JAN]')"
      ]
     },
     "execution_count": 19,
     "metadata": {},
     "output_type": "execute_result"
    }
   ],
   "source": [
    "#i can change the start and end of the month or the year\n",
    "r = pd.period_range('2011', '2017', freq='q-jan')\n",
    "r"
   ]
  },
  {
   "cell_type": "code",
   "execution_count": null,
   "id": "55823232",
   "metadata": {},
   "outputs": [],
   "source": []
  },
  {
   "cell_type": "code",
   "execution_count": null,
   "id": "7dd20c94",
   "metadata": {},
   "outputs": [],
   "source": []
  }
 ],
 "metadata": {
  "kernelspec": {
   "display_name": "base",
   "language": "python",
   "name": "python3"
  },
  "language_info": {
   "codemirror_mode": {
    "name": "ipython",
    "version": 3
   },
   "file_extension": ".py",
   "mimetype": "text/x-python",
   "name": "python",
   "nbconvert_exporter": "python",
   "pygments_lexer": "ipython3",
   "version": "3.12.7"
  }
 },
 "nbformat": 4,
 "nbformat_minor": 5
}
