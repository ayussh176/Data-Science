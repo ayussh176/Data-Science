{
 "cells": [
  {
   "cell_type": "code",
   "execution_count": 1,
   "id": "e1681cb3",
   "metadata": {},
   "outputs": [],
   "source": [
    "#lets learn list"
   ]
  },
  {
   "cell_type": "code",
   "execution_count": 2,
   "id": "f10bb452",
   "metadata": {},
   "outputs": [
    {
     "data": {
      "text/plain": [
       "'1. In Feb, how many dollars you spent extra compare to January?\\n2. Find out your total expense in first quarter (first three months) of the year.\\n3. Find out if you spent exactly 2000 dollars in any month\\n4. June month just finished and your expense is 1980 dollar. Add this item to our monthly expense list\\n5. You returned an item that you bought in a month of April and\\ngot a refund of 200$. Make a correction to your monthly expense list\\nbased on this'"
      ]
     },
     "execution_count": 2,
     "metadata": {},
     "output_type": "execute_result"
    }
   ],
   "source": [
    "\"\"\"\"Let us say your expense for every month are listed below,\n",
    "January - 2200\n",
    "February - 2350\n",
    "March - 2600\n",
    "April - 2130\n",
    "May - 2190\n",
    "Create a list to store these monthly expenses and using that find out,\"\"\"\n",
    "\n",
    "\"\"\"1. In Feb, how many dollars you spent extra compare to January?\n",
    "2. Find out your total expense in first quarter (first three months) of the year.\n",
    "3. Find out if you spent exactly 2000 dollars in any month\n",
    "4. June month just finished and your expense is 1980 dollar. Add this item to our monthly expense list\n",
    "5. You returned an item that you bought in a month of April and\n",
    "got a refund of 200$. Make a correction to your monthly expense list\n",
    "based on this\"\"\""
   ]
  },
  {
   "cell_type": "code",
   "execution_count": 3,
   "id": "917259a8",
   "metadata": {},
   "outputs": [],
   "source": [
    "expense = [2200,2350,2600,2130,2190]\n"
   ]
  },
  {
   "cell_type": "code",
   "execution_count": 6,
   "id": "0f71a023",
   "metadata": {},
   "outputs": [
    {
     "data": {
      "text/plain": [
       "150"
      ]
     },
     "execution_count": 6,
     "metadata": {},
     "output_type": "execute_result"
    }
   ],
   "source": [
    "#1\n",
    "extra = expense[1]-expense[0]\n",
    "extra"
   ]
  },
  {
   "cell_type": "code",
   "execution_count": 9,
   "id": "64c09605",
   "metadata": {},
   "outputs": [
    {
     "data": {
      "text/plain": [
       "7150"
      ]
     },
     "execution_count": 9,
     "metadata": {},
     "output_type": "execute_result"
    }
   ],
   "source": [
    "#2\n",
    "firstquater = expense[0]+expense[1]+expense[2]\n",
    "firstquater"
   ]
  },
  {
   "cell_type": "code",
   "execution_count": null,
   "id": "38177e7d",
   "metadata": {},
   "outputs": [
    {
     "data": {
      "text/plain": [
       "False"
      ]
     },
     "execution_count": 7,
     "metadata": {},
     "output_type": "execute_result"
    }
   ],
   "source": [
    "#3\n",
    "2000 in expense"
   ]
  },
  {
   "cell_type": "code",
   "execution_count": 10,
   "id": "e37c307f",
   "metadata": {},
   "outputs": [
    {
     "data": {
      "text/plain": [
       "[2200, 2350, 2600, 2130, 2190, 1980]"
      ]
     },
     "execution_count": 10,
     "metadata": {},
     "output_type": "execute_result"
    }
   ],
   "source": [
    "#4\n",
    "expense.append(1980)\n",
    "expense"
   ]
  },
  {
   "cell_type": "code",
   "execution_count": 11,
   "id": "6180456f",
   "metadata": {},
   "outputs": [
    {
     "data": {
      "text/plain": [
       "[2200, 2350, 2600, 1930, 2190, 1980]"
      ]
     },
     "execution_count": 11,
     "metadata": {},
     "output_type": "execute_result"
    }
   ],
   "source": [
    "expense[3]=expense[3] - 200\n",
    "expense"
   ]
  },
  {
   "cell_type": "code",
   "execution_count": 26,
   "id": "263badd9",
   "metadata": {},
   "outputs": [],
   "source": [
    "#You have a list of your favourite marvel super heros.\n",
    "heros=['spider man','thor','hulk','iron man','captain america']"
   ]
  },
  {
   "cell_type": "code",
   "execution_count": 13,
   "id": "f2c680a7",
   "metadata": {},
   "outputs": [
    {
     "data": {
      "text/plain": [
       "'\"1. Length of the list\\n2. Add \\'black panther\\' at the end of this list\\n3. You realize that you need to add \\'black panther\\' after \\'hulk\\',\\n   so remove it from the list first and then add it after \\'hulk\\'\\n4. Now you don\\'t like thor and hulk because they get angry easily :)\\n   So you want to remove thor and hulk from list and replace them with doctor strange (because he is cool).\\n   Do that with one line of code.\\n5. Sort the heros list in alphabetical order (Hint. Use dir() functions to list down all functions available in list)arithmetic operator.ipynb'"
      ]
     },
     "execution_count": 13,
     "metadata": {},
     "output_type": "execute_result"
    }
   ],
   "source": [
    "\"\"\"\"1. Length of the list\n",
    "2. Add 'black panther' at the end of this list\n",
    "3. You realize that you need to add 'black panther' after 'hulk',\n",
    "   so remove it from the list first and then add it after 'hulk'\n",
    "4. Now you don't like thor and hulk because they get angry easily :)\n",
    "   So you want to remove thor and hulk from list and replace them with doctor strange (because he is cool).\n",
    "   Do that with one line of code.\n",
    "5. Sort the heros list in alphabetical order (Hint. Use dir() functions to list down all functions available in list)\"\"\"\"arithmetic operator.ipynb\""
   ]
  },
  {
   "cell_type": "code",
   "execution_count": 27,
   "id": "d9950d5e",
   "metadata": {},
   "outputs": [
    {
     "data": {
      "text/plain": [
       "5"
      ]
     },
     "execution_count": 27,
     "metadata": {},
     "output_type": "execute_result"
    }
   ],
   "source": [
    "#1\n",
    "len(heros)"
   ]
  },
  {
   "cell_type": "code",
   "execution_count": 28,
   "id": "c8aec6b5",
   "metadata": {},
   "outputs": [
    {
     "name": "stdout",
     "output_type": "stream",
     "text": [
      "['spider man', 'thor', 'hulk', 'iron man', 'captain america', 'black panther']\n"
     ]
    }
   ],
   "source": [
    "#2\n",
    "heros.append(\"black panther\")\n",
    "print(heros)"
   ]
  },
  {
   "cell_type": "code",
   "execution_count": null,
   "id": "7426ddcc",
   "metadata": {},
   "outputs": [
    {
     "data": {
      "text/plain": [
       "['spider man', 'thor', 'hulk', 'black panther', 'iron man', 'captain america']"
      ]
     },
     "execution_count": 30,
     "metadata": {},
     "output_type": "execute_result"
    }
   ],
   "source": [
    "#3\n",
    "heros.remove('black panther')\n",
    "heros.insert(3,'black panther')\n",
    "heros"
   ]
  },
  {
   "cell_type": "code",
   "execution_count": null,
   "id": "775f0143",
   "metadata": {},
   "outputs": [
    {
     "data": {
      "text/plain": [
       "['spider man',\n",
       " 'doctor strange',\n",
       " 'black panther',\n",
       " 'iron man',\n",
       " 'captain america']"
      ]
     },
     "execution_count": 31,
     "metadata": {},
     "output_type": "execute_result"
    }
   ],
   "source": [
    "#4\n",
    "#in this we changes two 2 element by just one\n",
    "heros[1:3] = ['doctor strange']\n",
    "heros"
   ]
  },
  {
   "cell_type": "code",
   "execution_count": null,
   "id": "cb3df296",
   "metadata": {},
   "outputs": [
    {
     "data": {
      "text/plain": [
       "['black panther',\n",
       " 'captain america',\n",
       " 'doctor strange',\n",
       " 'iron man',\n",
       " 'spider man']"
      ]
     },
     "execution_count": 33,
     "metadata": {},
     "output_type": "execute_result"
    }
   ],
   "source": [
    "#5\n",
    "#sort helps to sort the list in alphabetical order\n",
    "heros.sort()\n",
    "heros"
   ]
  }
 ],
 "metadata": {
  "kernelspec": {
   "display_name": ".venv",
   "language": "python",
   "name": "python3"
  },
  "language_info": {
   "codemirror_mode": {
    "name": "ipython",
    "version": 3
   },
   "file_extension": ".py",
   "mimetype": "text/x-python",
   "name": "python",
   "nbconvert_exporter": "python",
   "pygments_lexer": "ipython3",
   "version": "3.12.10"
  }
 },
 "nbformat": 4,
 "nbformat_minor": 5
}
