{
 "cells": [
  {
   "cell_type": "code",
   "execution_count": 1,
   "id": "40beba0a",
   "metadata": {},
   "outputs": [
    {
     "name": "stdout",
     "output_type": "stream",
     "text": [
      "15.0\n"
     ]
    }
   ],
   "source": [
    "#Write a function called calculate_area that takes base and height as an input and returns and area of a triangle. Equation of an area of a triangle is,\n",
    "def calculate_area(base,height):\n",
    "    area = (1/2)*base*height\n",
    "    return area\n",
    "triangle_area = calculate_area(5,6)\n",
    "print(triangle_area)"
   ]
  },
  {
   "cell_type": "code",
   "execution_count": 4,
   "id": "93f98850",
   "metadata": {},
   "outputs": [
    {
     "name": "stdout",
     "output_type": "stream",
     "text": [
      "15.0\n",
      "30\n",
      "15.0\n"
     ]
    }
   ],
   "source": [
    "#Modify above function to take third parameter shape type. It can be either \"triangle\" or \"rectangle\". Based on shape type it will calculate area. Equation of rectangle's area is,\n",
    "def calculate_area(base,height,shape_type='triangle'):\n",
    "    area =0\n",
    "    if shape_type=='triangle' :\n",
    "        area = (1/2)*base*height\n",
    "    elif shape_type=='rectangle' :\n",
    "        area = base*height\n",
    "    return area\n",
    "triangle_area = calculate_area(5,6,'triangle')\n",
    "rectangle_area = calculate_area(5,6,'rectangle')\n",
    "area = calculate_area(5,6)\n",
    "print(triangle_area)\n",
    "print(rectangle_area)\n",
    "print(area)"
   ]
  },
  {
   "cell_type": "code",
   "execution_count": 7,
   "id": "c31c41cd",
   "metadata": {},
   "outputs": [
    {
     "name": "stdout",
     "output_type": "stream",
     "text": [
      "\n",
      "*\n",
      "**\n",
      "***\n",
      "\n",
      "*\n",
      "**\n",
      "***\n",
      "****\n"
     ]
    }
   ],
   "source": [
    "#Write a function called print_pattern that takes integer number as an argument and prints following pattern if input number is 3,\n",
    "def pattern(rows):\n",
    "    for i in range(rows+1):\n",
    "        s =''\n",
    "        for j in range(i):\n",
    "            s = s +'*'\n",
    "        print(s)\n",
    "pattern(3)\n",
    "pattern(4)"
   ]
  },
  {
   "cell_type": "code",
   "execution_count": null,
   "id": "01936b36",
   "metadata": {},
   "outputs": [],
   "source": []
  }
 ],
 "metadata": {
  "kernelspec": {
   "display_name": ".venv",
   "language": "python",
   "name": "python3"
  },
  "language_info": {
   "codemirror_mode": {
    "name": "ipython",
    "version": 3
   },
   "file_extension": ".py",
   "mimetype": "text/x-python",
   "name": "python",
   "nbconvert_exporter": "python",
   "pygments_lexer": "ipython3",
   "version": "3.12.10"
  }
 },
 "nbformat": 4,
 "nbformat_minor": 5
}
