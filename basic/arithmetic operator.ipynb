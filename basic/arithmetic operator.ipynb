{
 "cells": [
  {
   "cell_type": "code",
   "execution_count": 1,
   "id": "8d417757",
   "metadata": {},
   "outputs": [],
   "source": [
    "#these are the operator that works on the number +,-,*,/,% \n",
    "#lets understand it by examples"
   ]
  },
  {
   "cell_type": "code",
   "execution_count": 6,
   "id": "b7a36961",
   "metadata": {},
   "outputs": [
    {
     "data": {
      "text/plain": [
       "4489.6"
      ]
     },
     "execution_count": 6,
     "metadata": {},
     "output_type": "execute_result"
    }
   ],
   "source": [
    "#You have a football field that is 92 meter long and 48.8 meter wide. Find out total area using python and print it.\n",
    "length = 92\n",
    "width = 48.8\n",
    "area = length*width\n",
    "area\n",
    "round(area,2)\n"
   ]
  },
  {
   "cell_type": "code",
   "execution_count": 7,
   "id": "452075ab",
   "metadata": {},
   "outputs": [
    {
     "data": {
      "text/plain": [
       "6.59"
      ]
     },
     "execution_count": 7,
     "metadata": {},
     "output_type": "execute_result"
    }
   ],
   "source": [
    "#You bought 9 packets of potato chips from a store. Each packet costs 1.49 dollar and you gave shopkeeper 20 dollar. Find out using python, how many dollars is the shopkeeper going to give you back?\n",
    "packet = 9\n",
    "eachcost = 1.49\n",
    "totalcost = 9*1.49\n",
    "remaining = 20-totalcost\n",
    "round(remaining,2)"
   ]
  },
  {
   "cell_type": "code",
   "execution_count": 10,
   "id": "db7640c6",
   "metadata": {},
   "outputs": [
    {
     "data": {
      "text/plain": [
       "5901532.41"
      ]
     },
     "execution_count": 10,
     "metadata": {},
     "output_type": "execute_result"
    }
   ],
   "source": [
    "#You want to replace tiles in your bathroom which is exactly square and 5.5 feet is its length. If tiles cost 500 rs per square feet, how much will be the total cost to replace all tiles. Calculate and print the cost using python (Hint: Use power operator ** to find area of a square)\n",
    "sideare = 5.5**5.5\n",
    "costpersqfeet = 500\n",
    "total = sideare*costpersqfeet\n",
    "round(total,2)"
   ]
  },
  {
   "cell_type": "code",
   "execution_count": 11,
   "id": "b23afe50",
   "metadata": {},
   "outputs": [
    {
     "name": "stdout",
     "output_type": "stream",
     "text": [
      "Binary of number 17 is: 10001\n"
     ]
    }
   ],
   "source": [
    "#Print binary representation of number 17\n",
    "num = 17\n",
    "print('Binary of number 17 is:',format(num,'b'))\n"
   ]
  },
  {
   "cell_type": "code",
   "execution_count": 12,
   "id": "08626ac5",
   "metadata": {},
   "outputs": [
    {
     "name": "stdout",
     "output_type": "stream",
     "text": [
      "Binary of number 17 is: 10001\n"
     ]
    }
   ],
   "source": [
    "num = 17\n",
    "binary = ''\n",
    "\n",
    "while num > 0:\n",
    "    remainder = num % 2\n",
    "    binary = str(remainder) + binary  # prepend the remainder\n",
    "    num = num // 2\n",
    "\n",
    "print(\"Binary of number 17 is:\", binary)"
   ]
  },
  {
   "cell_type": "code",
   "execution_count": null,
   "id": "e85bdbd6",
   "metadata": {},
   "outputs": [],
   "source": []
  }
 ],
 "metadata": {
  "kernelspec": {
   "display_name": ".venv",
   "language": "python",
   "name": "python3"
  },
  "language_info": {
   "codemirror_mode": {
    "name": "ipython",
    "version": 3
   },
   "file_extension": ".py",
   "mimetype": "text/x-python",
   "name": "python",
   "nbconvert_exporter": "python",
   "pygments_lexer": "ipython3",
   "version": "3.12.10"
  }
 },
 "nbformat": 4,
 "nbformat_minor": 5
}
