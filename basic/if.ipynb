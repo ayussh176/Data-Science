{
 "cells": [
  {
   "cell_type": "code",
   "execution_count": 2,
   "id": "dc736a2c",
   "metadata": {},
   "outputs": [
    {
     "name": "stdout",
     "output_type": "stream",
     "text": [
      "5\n"
     ]
    }
   ],
   "source": [
    "num = input(\"enter a number: \")\n",
    "num = int(num)\n",
    "print(num)"
   ]
  },
  {
   "cell_type": "code",
   "execution_count": 3,
   "id": "14789a83",
   "metadata": {},
   "outputs": [
    {
     "name": "stdout",
     "output_type": "stream",
     "text": [
      "number is odd\n"
     ]
    }
   ],
   "source": [
    "if num%2==0:\n",
    "    print(\"number is even\")\n",
    "else:\n",
    "    print(\"number is odd\")\n"
   ]
  },
  {
   "cell_type": "code",
   "execution_count": 4,
   "id": "74f4909a",
   "metadata": {},
   "outputs": [],
   "source": [
    "#second example"
   ]
  },
  {
   "cell_type": "code",
   "execution_count": 5,
   "id": "d6f0123e",
   "metadata": {},
   "outputs": [],
   "source": [
    "indian = ['samosa','idli','paratha']\n",
    "italian = ['pasta','pizza','spagettie']\n",
    "american = ['burger','hotdog','salad']"
   ]
  },
  {
   "cell_type": "code",
   "execution_count": 7,
   "id": "19aea70e",
   "metadata": {},
   "outputs": [
    {
     "name": "stdout",
     "output_type": "stream",
     "text": [
      "burger\n",
      "dish is american\n"
     ]
    }
   ],
   "source": [
    "dish = input(\"enter a dish: \")\n",
    "print(dish)\n",
    "if dish in indian:\n",
    "    print(\"dish is indian\")\n",
    "elif dish in italian:\n",
    "    print(\"dish is itallian\")\n",
    "else:\n",
    "    print(\"dish is american\")"
   ]
  },
  {
   "cell_type": "code",
   "execution_count": 8,
   "id": "f1fdff91",
   "metadata": {},
   "outputs": [],
   "source": [
    "#questions"
   ]
  },
  {
   "cell_type": "code",
   "execution_count": 9,
   "id": "4d425084",
   "metadata": {},
   "outputs": [],
   "source": [
    "#Using following list of cities per country,\n",
    "india = [\"mumbai\", \"banglore\", \"chennai\", \"delhi\"]\n",
    "pakistan = [\"lahore\",\"karachi\",\"islamabad\"]\n",
    "bangladesh = [\"dhaka\", \"khulna\", \"rangpur\"]"
   ]
  },
  {
   "cell_type": "code",
   "execution_count": 17,
   "id": "cffaaff9",
   "metadata": {},
   "outputs": [
    {
     "name": "stdout",
     "output_type": "stream",
     "text": [
      "delhi\n",
      "city is in india\n"
     ]
    }
   ],
   "source": [
    "#Write a program that asks user to enter a city name and it should tell which country the city belongs to\n",
    "city = input(\"enter a dish: \")\n",
    "print(city)\n",
    "if city in india:\n",
    "    print(\"city is in india\")\n",
    "elif city in pakistan:\n",
    "    print(\"city is in pakistan\")\n",
    "elif city in bangladesh:\n",
    "    print(\"city is in bangladesh\")\n",
    "else:\n",
    "    print(\"i don't know\")"
   ]
  },
  {
   "cell_type": "code",
   "execution_count": 18,
   "id": "ebbe4865",
   "metadata": {},
   "outputs": [
    {
     "name": "stdout",
     "output_type": "stream",
     "text": [
      "delhi\n",
      "mumbai\n",
      "both city are in india\n"
     ]
    }
   ],
   "source": [
    "#Write a program that asks user to enter two cities and it tells you if they both are in same country or not. For example if I enter mumbai and chennai, it will print \"Both cities are in India\" but if I enter mumbai and dhaka it should print \"They don't belong to same country\"\n",
    "city2 = input(\"enter another city\")\n",
    "print(city)\n",
    "print(city2)\n",
    "if city in india and city2 in india:\n",
    "    print(\"both city are in india\")\n",
    "elif city in pakistan and city2 in pakistan:\n",
    "    print(\"both city are in pakistan\")\n",
    "elif city in bangladesh and city2 in bangladesh:\n",
    "    print(\"both city are in bangladesh\")\n",
    "else:\n",
    "    print(\"citys are not of same country\")"
   ]
  },
  {
   "cell_type": "code",
   "execution_count": 13,
   "id": "43e8f720",
   "metadata": {},
   "outputs": [
    {
     "data": {
      "text/plain": [
       "'Write a python program that can tell you if your sugar is normal or not. Normal fasting level sugar range is 80 to 100.\\nAsk user to enter his fasting sugar level\\nIf it is below 80 to 100 range then print that sugar is low\\nIf it is above 100 then print that it is high otherwise print that it is normal'"
      ]
     },
     "execution_count": 13,
     "metadata": {},
     "output_type": "execute_result"
    }
   ],
   "source": [
    "\"\"\"Write a python program that can tell you if your sugar is normal or not. Normal fasting level sugar range is 80 to 100.\n",
    "Ask user to enter his fasting sugar level\n",
    "If it is below 80 to 100 range then print that sugar is low\n",
    "If it is above 100 then print that it is high otherwise print that it is normal\"\"\""
   ]
  },
  {
   "cell_type": "code",
   "execution_count": 15,
   "id": "05c137bc",
   "metadata": {},
   "outputs": [
    {
     "name": "stdout",
     "output_type": "stream",
     "text": [
      "you have normal sugar\n"
     ]
    }
   ],
   "source": [
    "sugar = input(\"enter the sugar level: \")\n",
    "sugar = int(sugar)\n",
    "if sugar<80:\n",
    "    print(\"you have low sugar\")\n",
    "elif sugar>80 and sugar<100:\n",
    "    print(\"you have normal sugar\")\n",
    "else:\n",
    "    print(\"you have high sugar\")\n"
   ]
  }
 ],
 "metadata": {
  "kernelspec": {
   "display_name": ".venv",
   "language": "python",
   "name": "python3"
  },
  "language_info": {
   "codemirror_mode": {
    "name": "ipython",
    "version": 3
   },
   "file_extension": ".py",
   "mimetype": "text/x-python",
   "name": "python",
   "nbconvert_exporter": "python",
   "pygments_lexer": "ipython3",
   "version": "3.12.10"
  }
 },
 "nbformat": 4,
 "nbformat_minor": 5
}
